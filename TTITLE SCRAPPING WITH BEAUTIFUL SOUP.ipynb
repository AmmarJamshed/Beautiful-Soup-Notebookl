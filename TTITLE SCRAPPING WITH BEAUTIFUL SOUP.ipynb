{
 "cells": [
  {
   "cell_type": "code",
   "execution_count": 1,
   "metadata": {},
   "outputs": [],
   "source": [
    "from bs4 import BeautifulSoup\n",
    "import requests\n",
    "import json"
   ]
  },
  {
   "cell_type": "code",
   "execution_count": 43,
   "metadata": {},
   "outputs": [],
   "source": [
    "# Scrapping news wesbite from google \n",
    "URL = 'https://docs.python-requests.org/en/master/'"
   ]
  },
  {
   "cell_type": "code",
   "execution_count": 44,
   "metadata": {},
   "outputs": [],
   "source": [
    "def get_soup(URL, jar=None):\n",
    "    if jar:\n",
    "        r = requests.get(URL, cookies=jar)\n",
    "    else:\n",
    "        response = requests.get(URL)\n",
    "        jar =  requests.cookies.RequestsCookieJar()\n",
    "    soup = BeautifulSoup(response.content, \"html.parser\")\n",
    "    return soup, jar"
   ]
  },
  {
   "cell_type": "code",
   "execution_count": 45,
   "metadata": {},
   "outputs": [],
   "source": [
    "soup, jar = get_soup(URL)"
   ]
  },
  {
   "cell_type": "code",
   "execution_count": 54,
   "metadata": {},
   "outputs": [],
   "source": [
    "# function to get news news titles\n",
    "def get_news_titles(s):\n",
    "    data = []\n",
    "    titles = s.find_all(\"h2\")\n",
    "    for title in titles:\n",
    "        data.append(title.text.strip())\n",
    "    return data\n",
    "\n",
    "# change h2 to h3 etc based on need"
   ]
  },
  {
   "cell_type": "code",
   "execution_count": 55,
   "metadata": {},
   "outputs": [
    {
     "data": {
      "text/plain": [
       "['Beloved Features¶',\n",
       " 'The User Guide¶',\n",
       " 'The Community Guide¶',\n",
       " 'The API Documentation / Guide¶',\n",
       " 'The Contributor Guide¶']"
      ]
     },
     "execution_count": 55,
     "metadata": {},
     "output_type": "execute_result"
    }
   ],
   "source": [
    "get_news_titles(soup)"
   ]
  },
  {
   "cell_type": "code",
   "execution_count": null,
   "metadata": {},
   "outputs": [],
   "source": []
  }
 ],
 "metadata": {
  "kernelspec": {
   "display_name": "Python 3",
   "language": "python",
   "name": "python3"
  },
  "language_info": {
   "codemirror_mode": {
    "name": "ipython",
    "version": 3
   },
   "file_extension": ".py",
   "mimetype": "text/x-python",
   "name": "python",
   "nbconvert_exporter": "python",
   "pygments_lexer": "ipython3",
   "version": "3.8.5"
  }
 },
 "nbformat": 4,
 "nbformat_minor": 4
}
